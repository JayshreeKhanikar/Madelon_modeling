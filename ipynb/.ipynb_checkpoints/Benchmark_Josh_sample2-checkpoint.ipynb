{
 "cells": [
  {
   "cell_type": "code",
   "execution_count": 5,
   "metadata": {},
   "outputs": [
    {
     "name": "stdout",
     "output_type": "stream",
     "text": [
      "/home/jovyan/Practice_exercise/Madelon\n"
     ]
    }
   ],
   "source": [
    "cd /home/jovyan/Practice_exercise/Madelon"
   ]
  },
  {
   "cell_type": "code",
   "execution_count": 6,
   "metadata": {},
   "outputs": [],
   "source": [
    "%run Imports_functions.py\n",
    "%matplotlib inline"
   ]
  },
  {
   "cell_type": "code",
   "execution_count": 11,
   "metadata": {},
   "outputs": [],
   "source": [
    "#it is a picke file\n",
    "#madelon2 = pd.read_pickle('/home/jovyan/Practice_exercise/Madelon/data/madelon_db_2') "
   ]
  },
  {
   "cell_type": "code",
   "execution_count": 14,
   "metadata": {},
   "outputs": [],
   "source": [
    "#madelon2.to_csv('/home/jovyan/Practice_exercise/Madelon/data/madelon_db_2.csv', sep=',')"
   ]
  },
  {
   "cell_type": "code",
   "execution_count": 15,
   "metadata": {},
   "outputs": [],
   "source": [
    "madelon2 = pd.read_csv('/home/jovyan/Practice_exercise/Madelon/data/madelon_db_2.csv', delimiter=',')\n"
   ]
  },
  {
   "cell_type": "code",
   "execution_count": 22,
   "metadata": {},
   "outputs": [
    {
     "ename": "ValueError",
     "evalue": "labels ['Unnamed: 0'] not contained in axis",
     "output_type": "error",
     "traceback": [
      "\u001b[0;31m---------------------------------------------------------------------------\u001b[0m",
      "\u001b[0;31mValueError\u001b[0m                                Traceback (most recent call last)",
      "\u001b[0;32m<ipython-input-22-2a93c7907547>\u001b[0m in \u001b[0;36m<module>\u001b[0;34m()\u001b[0m\n\u001b[0;32m----> 1\u001b[0;31m \u001b[0mmadelon2\u001b[0m\u001b[0;34m.\u001b[0m\u001b[0mdrop\u001b[0m\u001b[0;34m(\u001b[0m\u001b[0;34m'Unnamed: 0'\u001b[0m\u001b[0;34m,\u001b[0m \u001b[0maxis\u001b[0m\u001b[0;34m=\u001b[0m \u001b[0;36m1\u001b[0m\u001b[0;34m,\u001b[0m \u001b[0minplace\u001b[0m \u001b[0;34m=\u001b[0m \u001b[0;32mTrue\u001b[0m\u001b[0;34m)\u001b[0m\u001b[0;34m\u001b[0m\u001b[0m\n\u001b[0m\u001b[1;32m      2\u001b[0m \u001b[0;31m#madelon2.set_index('_id', inplace = True)\u001b[0m\u001b[0;34m\u001b[0m\u001b[0;34m\u001b[0m\u001b[0m\n",
      "\u001b[0;32m/opt/conda/lib/python3.6/site-packages/pandas/core/generic.py\u001b[0m in \u001b[0;36mdrop\u001b[0;34m(self, labels, axis, level, inplace, errors)\u001b[0m\n\u001b[1;32m   1905\u001b[0m                 \u001b[0mnew_axis\u001b[0m \u001b[0;34m=\u001b[0m \u001b[0maxis\u001b[0m\u001b[0;34m.\u001b[0m\u001b[0mdrop\u001b[0m\u001b[0;34m(\u001b[0m\u001b[0mlabels\u001b[0m\u001b[0;34m,\u001b[0m \u001b[0mlevel\u001b[0m\u001b[0;34m=\u001b[0m\u001b[0mlevel\u001b[0m\u001b[0;34m,\u001b[0m \u001b[0merrors\u001b[0m\u001b[0;34m=\u001b[0m\u001b[0merrors\u001b[0m\u001b[0;34m)\u001b[0m\u001b[0;34m\u001b[0m\u001b[0m\n\u001b[1;32m   1906\u001b[0m             \u001b[0;32melse\u001b[0m\u001b[0;34m:\u001b[0m\u001b[0;34m\u001b[0m\u001b[0m\n\u001b[0;32m-> 1907\u001b[0;31m                 \u001b[0mnew_axis\u001b[0m \u001b[0;34m=\u001b[0m \u001b[0maxis\u001b[0m\u001b[0;34m.\u001b[0m\u001b[0mdrop\u001b[0m\u001b[0;34m(\u001b[0m\u001b[0mlabels\u001b[0m\u001b[0;34m,\u001b[0m \u001b[0merrors\u001b[0m\u001b[0;34m=\u001b[0m\u001b[0merrors\u001b[0m\u001b[0;34m)\u001b[0m\u001b[0;34m\u001b[0m\u001b[0m\n\u001b[0m\u001b[1;32m   1908\u001b[0m             \u001b[0mdropped\u001b[0m \u001b[0;34m=\u001b[0m \u001b[0mself\u001b[0m\u001b[0;34m.\u001b[0m\u001b[0mreindex\u001b[0m\u001b[0;34m(\u001b[0m\u001b[0;34m**\u001b[0m\u001b[0;34m{\u001b[0m\u001b[0maxis_name\u001b[0m\u001b[0;34m:\u001b[0m \u001b[0mnew_axis\u001b[0m\u001b[0;34m}\u001b[0m\u001b[0;34m)\u001b[0m\u001b[0;34m\u001b[0m\u001b[0m\n\u001b[1;32m   1909\u001b[0m             \u001b[0;32mtry\u001b[0m\u001b[0;34m:\u001b[0m\u001b[0;34m\u001b[0m\u001b[0m\n",
      "\u001b[0;32m/opt/conda/lib/python3.6/site-packages/pandas/indexes/base.py\u001b[0m in \u001b[0;36mdrop\u001b[0;34m(self, labels, errors)\u001b[0m\n\u001b[1;32m   3260\u001b[0m             \u001b[0;32mif\u001b[0m \u001b[0merrors\u001b[0m \u001b[0;34m!=\u001b[0m \u001b[0;34m'ignore'\u001b[0m\u001b[0;34m:\u001b[0m\u001b[0;34m\u001b[0m\u001b[0m\n\u001b[1;32m   3261\u001b[0m                 raise ValueError('labels %s not contained in axis' %\n\u001b[0;32m-> 3262\u001b[0;31m                                  labels[mask])\n\u001b[0m\u001b[1;32m   3263\u001b[0m             \u001b[0mindexer\u001b[0m \u001b[0;34m=\u001b[0m \u001b[0mindexer\u001b[0m\u001b[0;34m[\u001b[0m\u001b[0;34m~\u001b[0m\u001b[0mmask\u001b[0m\u001b[0;34m]\u001b[0m\u001b[0;34m\u001b[0m\u001b[0m\n\u001b[1;32m   3264\u001b[0m         \u001b[0;32mreturn\u001b[0m \u001b[0mself\u001b[0m\u001b[0;34m.\u001b[0m\u001b[0mdelete\u001b[0m\u001b[0;34m(\u001b[0m\u001b[0mindexer\u001b[0m\u001b[0;34m)\u001b[0m\u001b[0;34m\u001b[0m\u001b[0m\n",
      "\u001b[0;31mValueError\u001b[0m: labels ['Unnamed: 0'] not contained in axis"
     ]
    }
   ],
   "source": [
    "madelon2.drop('Unnamed: 0', axis= 1, inplace = True)\n",
    "madelon2.set_index('_id', inplace = True)"
   ]
  },
  {
   "cell_type": "code",
   "execution_count": 23,
   "metadata": {},
   "outputs": [
    {
     "data": {
      "text/html": [
       "<div>\n",
       "<table border=\"1\" class=\"dataframe\">\n",
       "  <thead>\n",
       "    <tr style=\"text-align: right;\">\n",
       "      <th></th>\n",
       "      <th>feat_000</th>\n",
       "      <th>feat_001</th>\n",
       "      <th>feat_002</th>\n",
       "      <th>feat_003</th>\n",
       "      <th>feat_004</th>\n",
       "      <th>feat_005</th>\n",
       "      <th>feat_006</th>\n",
       "      <th>feat_007</th>\n",
       "      <th>feat_008</th>\n",
       "      <th>feat_009</th>\n",
       "      <th>...</th>\n",
       "      <th>feat_991</th>\n",
       "      <th>feat_992</th>\n",
       "      <th>feat_993</th>\n",
       "      <th>feat_994</th>\n",
       "      <th>feat_995</th>\n",
       "      <th>feat_996</th>\n",
       "      <th>feat_997</th>\n",
       "      <th>feat_998</th>\n",
       "      <th>feat_999</th>\n",
       "      <th>target</th>\n",
       "    </tr>\n",
       "    <tr>\n",
       "      <th>_id</th>\n",
       "      <th></th>\n",
       "      <th></th>\n",
       "      <th></th>\n",
       "      <th></th>\n",
       "      <th></th>\n",
       "      <th></th>\n",
       "      <th></th>\n",
       "      <th></th>\n",
       "      <th></th>\n",
       "      <th></th>\n",
       "      <th></th>\n",
       "      <th></th>\n",
       "      <th></th>\n",
       "      <th></th>\n",
       "      <th></th>\n",
       "      <th></th>\n",
       "      <th></th>\n",
       "      <th></th>\n",
       "      <th></th>\n",
       "      <th></th>\n",
       "      <th></th>\n",
       "    </tr>\n",
       "  </thead>\n",
       "  <tbody>\n",
       "    <tr>\n",
       "      <th>148780</th>\n",
       "      <td>0.774014</td>\n",
       "      <td>-0.564624</td>\n",
       "      <td>0.158457</td>\n",
       "      <td>1.427263</td>\n",
       "      <td>-0.086553</td>\n",
       "      <td>0.058353</td>\n",
       "      <td>1.307113</td>\n",
       "      <td>-0.278554</td>\n",
       "      <td>0.324655</td>\n",
       "      <td>1.411186</td>\n",
       "      <td>...</td>\n",
       "      <td>-0.031192</td>\n",
       "      <td>-1.561191</td>\n",
       "      <td>0.191021</td>\n",
       "      <td>-2.031656</td>\n",
       "      <td>-0.255455</td>\n",
       "      <td>1.363226</td>\n",
       "      <td>0.421532</td>\n",
       "      <td>-0.836410</td>\n",
       "      <td>0.108733</td>\n",
       "      <td>0</td>\n",
       "    </tr>\n",
       "    <tr>\n",
       "      <th>148793</th>\n",
       "      <td>-1.511576</td>\n",
       "      <td>-0.493970</td>\n",
       "      <td>0.508115</td>\n",
       "      <td>-2.006692</td>\n",
       "      <td>-0.284757</td>\n",
       "      <td>0.089850</td>\n",
       "      <td>-0.610778</td>\n",
       "      <td>0.836074</td>\n",
       "      <td>-0.422766</td>\n",
       "      <td>-0.852546</td>\n",
       "      <td>...</td>\n",
       "      <td>0.950201</td>\n",
       "      <td>1.079964</td>\n",
       "      <td>1.394712</td>\n",
       "      <td>-0.898148</td>\n",
       "      <td>0.116137</td>\n",
       "      <td>0.513595</td>\n",
       "      <td>-0.923785</td>\n",
       "      <td>1.139429</td>\n",
       "      <td>-0.024540</td>\n",
       "      <td>1</td>\n",
       "    </tr>\n",
       "    <tr>\n",
       "      <th>148815</th>\n",
       "      <td>-0.620846</td>\n",
       "      <td>0.573710</td>\n",
       "      <td>0.000995</td>\n",
       "      <td>-1.134147</td>\n",
       "      <td>-0.760074</td>\n",
       "      <td>-2.123366</td>\n",
       "      <td>-1.110216</td>\n",
       "      <td>1.194537</td>\n",
       "      <td>0.230810</td>\n",
       "      <td>1.720176</td>\n",
       "      <td>...</td>\n",
       "      <td>-1.440147</td>\n",
       "      <td>0.108555</td>\n",
       "      <td>0.411729</td>\n",
       "      <td>-0.764231</td>\n",
       "      <td>0.052813</td>\n",
       "      <td>0.044282</td>\n",
       "      <td>1.161761</td>\n",
       "      <td>-0.107575</td>\n",
       "      <td>-0.595686</td>\n",
       "      <td>1</td>\n",
       "    </tr>\n",
       "    <tr>\n",
       "      <th>148862</th>\n",
       "      <td>-0.280525</td>\n",
       "      <td>-0.364150</td>\n",
       "      <td>1.096584</td>\n",
       "      <td>0.218311</td>\n",
       "      <td>-0.893885</td>\n",
       "      <td>-0.852269</td>\n",
       "      <td>0.031788</td>\n",
       "      <td>-0.969260</td>\n",
       "      <td>0.431140</td>\n",
       "      <td>0.704502</td>\n",
       "      <td>...</td>\n",
       "      <td>0.507605</td>\n",
       "      <td>-0.807580</td>\n",
       "      <td>-1.236277</td>\n",
       "      <td>0.773174</td>\n",
       "      <td>-0.592090</td>\n",
       "      <td>-0.305323</td>\n",
       "      <td>-0.465135</td>\n",
       "      <td>-0.618421</td>\n",
       "      <td>-0.857286</td>\n",
       "      <td>0</td>\n",
       "    </tr>\n",
       "    <tr>\n",
       "      <th>148870</th>\n",
       "      <td>0.793159</td>\n",
       "      <td>-0.465621</td>\n",
       "      <td>1.236143</td>\n",
       "      <td>0.609504</td>\n",
       "      <td>-1.397481</td>\n",
       "      <td>-0.330812</td>\n",
       "      <td>0.525099</td>\n",
       "      <td>-0.200693</td>\n",
       "      <td>-0.821121</td>\n",
       "      <td>1.162639</td>\n",
       "      <td>...</td>\n",
       "      <td>1.706888</td>\n",
       "      <td>0.970229</td>\n",
       "      <td>-0.352006</td>\n",
       "      <td>0.216746</td>\n",
       "      <td>0.917053</td>\n",
       "      <td>-0.844940</td>\n",
       "      <td>1.356294</td>\n",
       "      <td>-0.721929</td>\n",
       "      <td>-0.781107</td>\n",
       "      <td>1</td>\n",
       "    </tr>\n",
       "  </tbody>\n",
       "</table>\n",
       "<p>5 rows × 1001 columns</p>\n",
       "</div>"
      ],
      "text/plain": [
       "        feat_000  feat_001  feat_002  feat_003  feat_004  feat_005  feat_006  \\\n",
       "_id                                                                            \n",
       "148780  0.774014 -0.564624  0.158457  1.427263 -0.086553  0.058353  1.307113   \n",
       "148793 -1.511576 -0.493970  0.508115 -2.006692 -0.284757  0.089850 -0.610778   \n",
       "148815 -0.620846  0.573710  0.000995 -1.134147 -0.760074 -2.123366 -1.110216   \n",
       "148862 -0.280525 -0.364150  1.096584  0.218311 -0.893885 -0.852269  0.031788   \n",
       "148870  0.793159 -0.465621  1.236143  0.609504 -1.397481 -0.330812  0.525099   \n",
       "\n",
       "        feat_007  feat_008  feat_009   ...    feat_991  feat_992  feat_993  \\\n",
       "_id                                    ...                                   \n",
       "148780 -0.278554  0.324655  1.411186   ...   -0.031192 -1.561191  0.191021   \n",
       "148793  0.836074 -0.422766 -0.852546   ...    0.950201  1.079964  1.394712   \n",
       "148815  1.194537  0.230810  1.720176   ...   -1.440147  0.108555  0.411729   \n",
       "148862 -0.969260  0.431140  0.704502   ...    0.507605 -0.807580 -1.236277   \n",
       "148870 -0.200693 -0.821121  1.162639   ...    1.706888  0.970229 -0.352006   \n",
       "\n",
       "        feat_994  feat_995  feat_996  feat_997  feat_998  feat_999  target  \n",
       "_id                                                                         \n",
       "148780 -2.031656 -0.255455  1.363226  0.421532 -0.836410  0.108733       0  \n",
       "148793 -0.898148  0.116137  0.513595 -0.923785  1.139429 -0.024540       1  \n",
       "148815 -0.764231  0.052813  0.044282  1.161761 -0.107575 -0.595686       1  \n",
       "148862  0.773174 -0.592090 -0.305323 -0.465135 -0.618421 -0.857286       0  \n",
       "148870  0.216746  0.917053 -0.844940  1.356294 -0.721929 -0.781107       1  \n",
       "\n",
       "[5 rows x 1001 columns]"
      ]
     },
     "execution_count": 23,
     "metadata": {},
     "output_type": "execute_result"
    }
   ],
   "source": [
    "madelon2.head()"
   ]
  },
  {
   "cell_type": "code",
   "execution_count": 17,
   "metadata": {},
   "outputs": [
    {
     "data": {
      "text/plain": [
       "(20006, 1003)"
      ]
     },
     "execution_count": 17,
     "metadata": {},
     "output_type": "execute_result"
    }
   ],
   "source": [
    "madelon2.shape"
   ]
  },
  {
   "cell_type": "markdown",
   "metadata": {},
   "source": [
    "## Benchmarking with LogisticRegression, DecisionTreeClassifier, KNeighborsClassifier, SVC"
   ]
  },
  {
   "cell_type": "code",
   "execution_count": 25,
   "metadata": {},
   "outputs": [],
   "source": [
    "madelon2_sam = madelon2.sample(2000)\n",
    "target_sam = madelon2_sam['target']\n",
    "x_sam = madelon2_sam.drop('target', axis= 1)"
   ]
  },
  {
   "cell_type": "code",
   "execution_count": 26,
   "metadata": {},
   "outputs": [],
   "source": [
    "sam2_benchmark_score = benchmark_score(x_sam, target_sam, LogisticRegression(), KNeighborsClassifier(), DecisionTreeClassifier(), SVC(probability=True))"
   ]
  },
  {
   "cell_type": "code",
   "execution_count": 28,
   "metadata": {},
   "outputs": [],
   "source": [
    "sam2_benchmark_score.to_pickle('/home/jovyan/Practice_exercise/Madelon/data/sam2_benchmark_score.p')"
   ]
  },
  {
   "cell_type": "code",
   "execution_count": 29,
   "metadata": {},
   "outputs": [
    {
     "data": {
      "text/html": [
       "<div>\n",
       "<table border=\"1\" class=\"dataframe\">\n",
       "  <thead>\n",
       "    <tr style=\"text-align: right;\">\n",
       "      <th></th>\n",
       "      <th>LogisticRegression(C=1.0, class_weight=None, dual=False, fit_intercept=True,\n",
       "          intercept_scaling=1, max_iter=100, multi_class='ovr', n_jobs=1,\n",
       "          penalty='l2', random_state=None, solver='liblinear', tol=0.0001,\n",
       "          verbose=0, warm_start=False)</th>\n",
       "      <th>KNeighborsClassifier(algorithm='auto', leaf_size=30, metric='minkowski',\n",
       "           metric_params=None, n_jobs=1, n_neighbors=5, p=2,\n",
       "           weights='uniform')</th>\n",
       "      <th>DecisionTreeClassifier(class_weight=None, criterion='gini', max_depth=None,\n",
       "            max_features=None, max_leaf_nodes=None,\n",
       "            min_impurity_decrease=0.0, min_impurity_split=None,\n",
       "            min_samples_leaf=1, min_samples_split=2,\n",
       "            min_weight_fraction_leaf=0.0, presort=False, random_state=None,\n",
       "            splitter='best')</th>\n",
       "      <th>SVC(C=1.0, cache_size=200, class_weight=None, coef0=0.0,\n",
       "  decision_function_shape='ovr', degree=3, gamma='auto', kernel='rbf',\n",
       "  max_iter=-1, probability=True, random_state=None, shrinking=True,\n",
       "  tol=0.001, verbose=False)</th>\n",
       "    </tr>\n",
       "  </thead>\n",
       "  <tbody>\n",
       "    <tr>\n",
       "      <th>0</th>\n",
       "      <td>0.496825</td>\n",
       "      <td>0.56114</td>\n",
       "      <td>0.63907</td>\n",
       "      <td>0.591754</td>\n",
       "    </tr>\n",
       "  </tbody>\n",
       "</table>\n",
       "</div>"
      ],
      "text/plain": [
       "   LogisticRegression(C=1.0, class_weight=None, dual=False, fit_intercept=True,\\n          intercept_scaling=1, max_iter=100, multi_class='ovr', n_jobs=1,\\n          penalty='l2', random_state=None, solver='liblinear', tol=0.0001,\\n          verbose=0, warm_start=False)  \\\n",
       "0                                           0.496825                                                                                                                                                                                                                             \n",
       "\n",
       "   KNeighborsClassifier(algorithm='auto', leaf_size=30, metric='minkowski',\\n           metric_params=None, n_jobs=1, n_neighbors=5, p=2,\\n           weights='uniform')  \\\n",
       "0                                            0.56114                                                                                                                       \n",
       "\n",
       "   DecisionTreeClassifier(class_weight=None, criterion='gini', max_depth=None,\\n            max_features=None, max_leaf_nodes=None,\\n            min_impurity_decrease=0.0, min_impurity_split=None,\\n            min_samples_leaf=1, min_samples_split=2,\\n            min_weight_fraction_leaf=0.0, presort=False, random_state=None,\\n            splitter='best')  \\\n",
       "0                                            0.63907                                                                                                                                                                                                                                                                                                                    \n",
       "\n",
       "   SVC(C=1.0, cache_size=200, class_weight=None, coef0=0.0,\\n  decision_function_shape='ovr', degree=3, gamma='auto', kernel='rbf',\\n  max_iter=-1, probability=True, random_state=None, shrinking=True,\\n  tol=0.001, verbose=False)  \n",
       "0                                           0.591754                                                                                                                                                                                   "
      ]
     },
     "execution_count": 29,
     "metadata": {},
     "output_type": "execute_result"
    }
   ],
   "source": [
    "sam2_benchmark_score"
   ]
  },
  {
   "cell_type": "markdown",
   "metadata": {},
   "source": [
    "## Feature Selection by Iterative unsupervised method"
   ]
  },
  {
   "cell_type": "code",
   "execution_count": 30,
   "metadata": {},
   "outputs": [
    {
     "name": "stderr",
     "output_type": "stream",
     "text": [
      "100%|██████████| 1000/1000 [27:03<00:00,  1.62s/it]\n"
     ]
    }
   ],
   "source": [
    "DT2score = iterative_score(x_sam, DecisionTreeRegressor)"
   ]
  },
  {
   "cell_type": "code",
   "execution_count": 32,
   "metadata": {},
   "outputs": [
    {
     "data": {
      "text/plain": [
       "Index(['Feature', 'Score'], dtype='object')"
      ]
     },
     "execution_count": 32,
     "metadata": {},
     "output_type": "execute_result"
    }
   ],
   "source": [
    "DTscores = pd.DataFrame()\n",
    "DTscores['Feature'] = DT2score.keys()\n",
    "DTscores['Score'] = DT2score.values()\n",
    "DTscores.columns"
   ]
  },
  {
   "cell_type": "code",
   "execution_count": 33,
   "metadata": {},
   "outputs": [
    {
     "data": {
      "text/plain": [
       "<matplotlib.axes._subplots.AxesSubplot at 0x7f79043b9d30>"
      ]
     },
     "execution_count": 33,
     "metadata": {},
     "output_type": "execute_result"
    },
    {
     "data": {
      "image/png": "[encoded data removed]",
      "text/plain": [
       "<matplotlib.figure.Figure at 0x7f79043b9080>"
      ]
     },
     "metadata": {},
     "output_type": "display_data"
    }
   ],
   "source": [
    "DTscores.sort_values('Score',ascending=False).iloc[:30].plot.barh(x='Feature')"
   ]
  },
  {
   "cell_type": "markdown",
   "metadata": {},
   "source": [
    "features selected: 257,269,308,336,315,341,395,504,526,639,681,724,769,736,701,829,808,867,920,956"
   ]
  },
  {
   "cell_type": "markdown",
   "metadata": {},
   "source": [
    "## Comparing Covariance between features:¶"
   ]
  },
  {
   "cell_type": "markdown",
   "metadata": {},
   "source": [
    "selecting features based on high covariance between them."
   ]
  },
  {
   "cell_type": "code",
   "execution_count": 35,
   "metadata": {},
   "outputs": [],
   "source": [
    "x_cov = x_sam.cov().unstack()"
   ]
  },
  {
   "cell_type": "code",
   "execution_count": 53,
   "metadata": {},
   "outputs": [
    {
     "name": "stderr",
     "output_type": "stream",
     "text": [
      "/opt/conda/lib/python3.6/site-packages/ipykernel_launcher.py:1: FutureWarning: order is deprecated, use sort_values(...)\n",
      "  \"\"\"Entry point for launching an IPython kernel.\n"
     ]
    }
   ],
   "source": [
    "x_cov_desc = x_cov.order(kind=\"quicksort\", ascending= False)"
   ]
  },
  {
   "cell_type": "code",
   "execution_count": null,
   "metadata": {},
   "outputs": [],
   "source": [
    "feature selected: 257,269,308,315,341,336,395,504,526,639,701,724,736,769,829,867,920,956"
   ]
  },
  {
   "cell_type": "markdown",
   "metadata": {},
   "source": [
    "## SelectKBest feature selection"
   ]
  },
  {
   "cell_type": "code",
   "execution_count": null,
   "metadata": {},
   "outputs": [],
   "source": []
  },
  {
   "cell_type": "code",
   "execution_count": 37,
   "metadata": {},
   "outputs": [
    {
     "data": {
      "text/plain": [
       "SelectKBest(k=100, score_func=<function f_classif at 0x7f790c2b7840>)"
      ]
     },
     "execution_count": 37,
     "metadata": {},
     "output_type": "execute_result"
    }
   ],
   "source": [
    "sk = SelectKBest(k=100)\n",
    "sk.fit(x_sam, target_sam)"
   ]
  },
  {
   "cell_type": "code",
   "execution_count": 38,
   "metadata": {},
   "outputs": [],
   "source": [
    "sk_df = pd.DataFrame()\n",
    "sk_df['Feature'] = sk.get_support(indices=True)\n",
    "sk_df['F-score'] = sk.scores_[sk.get_support(indices=True)]\n",
    "sk_df['p-values'] = sk.pvalues_[sk.get_support(indices=True)]"
   ]
  },
  {
   "cell_type": "code",
   "execution_count": 39,
   "metadata": {},
   "outputs": [
    {
     "data": {
      "text/plain": [
       "<matplotlib.axes._subplots.AxesSubplot at 0x7f7904181b70>"
      ]
     },
     "execution_count": 39,
     "metadata": {},
     "output_type": "execute_result"
    },
    {
     "data": {
      "image/png": "[encoded data removed]",
      "text/plain": [
       "<matplotlib.figure.Figure at 0x7f79048fb588>"
      ]
     },
     "metadata": {},
     "output_type": "display_data"
    }
   ],
   "source": [
    "sk_df.sort_values('F-score',ascending=False).iloc[:25].plot.barh(x='Feature')"
   ]
  },
  {
   "cell_type": "markdown",
   "metadata": {},
   "source": [
    "feature selected:269,315,341,681,701,769,829,808,867,920"
   ]
  },
  {
   "cell_type": "markdown",
   "metadata": {},
   "source": [
    "## Feature selection by RandomForest"
   ]
  },
  {
   "cell_type": "code",
   "execution_count": 45,
   "metadata": {},
   "outputs": [],
   "source": [
    "from sklearn.ensemble import RandomForestClassifier\n",
    "from sklearn.model_selection import GridSearchCV \n",
    "from sklearn.pipeline import Pipeline\n",
    "from sklearn.preprocessing import StandardScaler"
   ]
  },
  {
   "cell_type": "code",
   "execution_count": 46,
   "metadata": {},
   "outputs": [],
   "source": [
    "rf_pipe = Pipeline([\n",
    "    ('scaler',StandardScaler()),\n",
    "    ('clf',RandomForestClassifier(random_state=42))\n",
    "])\n",
    "\n",
    "rfparams = {\n",
    "    'clf__n_estimators':[10, 50,100],\n",
    "    'clf__max_depth':[10,15,20,25]\n",
    "}"
   ]
  },
  {
   "cell_type": "code",
   "execution_count": 47,
   "metadata": {},
   "outputs": [],
   "source": [
    "gs_rf = GridSearchCV(rf_pipe, rfparams, cv= 3, n_jobs= -1)"
   ]
  },
  {
   "cell_type": "code",
   "execution_count": 48,
   "metadata": {},
   "outputs": [
    {
     "data": {
      "text/plain": [
       "GridSearchCV(cv=3, error_score='raise',\n",
       "       estimator=Pipeline(memory=None,\n",
       "     steps=[('scaler', StandardScaler(copy=True, with_mean=True, with_std=True)), ('clf', RandomForestClassifier(bootstrap=True, class_weight=None, criterion='gini',\n",
       "            max_depth=None, max_features='auto', max_leaf_nodes=None,\n",
       "            min_impurity_decreas...timators=10, n_jobs=1,\n",
       "            oob_score=False, random_state=42, verbose=0, warm_start=False))]),\n",
       "       fit_params=None, iid=True, n_jobs=-1,\n",
       "       param_grid={'clf__n_estimators': [10, 50, 100], 'clf__max_depth': [10, 15, 20, 25]},\n",
       "       pre_dispatch='2*n_jobs', refit=True, return_train_score='warn',\n",
       "       scoring=None, verbose=0)"
      ]
     },
     "execution_count": 48,
     "metadata": {},
     "output_type": "execute_result"
    }
   ],
   "source": [
    "gs_rf.fit(x_sam, target_sam)"
   ]
  },
  {
   "cell_type": "code",
   "execution_count": 49,
   "metadata": {},
   "outputs": [],
   "source": [
    "rf_feature = gs_rf.best_estimator_.named_steps['clf'].feature_importances_"
   ]
  },
  {
   "cell_type": "code",
   "execution_count": 50,
   "metadata": {},
   "outputs": [],
   "source": [
    "rf_importance = pd.DataFrame(list(zip(x_sam.columns, rf_feature))).rename(columns={0:'Feature',1:'Importance'})"
   ]
  },
  {
   "cell_type": "code",
   "execution_count": 51,
   "metadata": {},
   "outputs": [
    {
     "name": "stderr",
     "output_type": "stream",
     "text": [
      "/opt/conda/lib/python3.6/site-packages/ipykernel_launcher.py:1: FutureWarning: sort(columns=....) is deprecated, use sort_values(by=.....)\n",
      "  \"\"\"Entry point for launching an IPython kernel.\n"
     ]
    },
    {
     "data": {
      "text/plain": [
       "<matplotlib.axes._subplots.AxesSubplot at 0x7f79043b94e0>"
      ]
     },
     "execution_count": 51,
     "metadata": {},
     "output_type": "execute_result"
    },
    {
     "data": {
      "image/png": "[encoded data removed]",
      "text/plain": [
       "<matplotlib.figure.Figure at 0x7f790490f1d0>"
      ]
     },
     "metadata": {},
     "output_type": "display_data"
    }
   ],
   "source": [
    "rf_importance.sort('Importance', ascending= False).iloc[:26].plot.barh(x='Feature')"
   ]
  },
  {
   "cell_type": "markdown",
   "metadata": {},
   "source": [
    "feature selected:257,269,315,336,341,395,504,526,639,681,701,724,736,769,829,808,858,867,920,956"
   ]
  },
  {
   "cell_type": "code",
   "execution_count": null,
   "metadata": {},
   "outputs": [],
   "source": [
    "# itr_feature = [257,269,308,336,315,341,395,504,526,639,681,701,724,769,736,808,829,867,920,956]\n",
    "# cov_feature = [257,269,308,315,341,336,395,504,526,639,701,724,736,769,829,867,920,956]\n",
    "# skb_feature = [269,315,341,681,701,769,829,808,867,920]\n",
    "# rf_features = [257,269,315,336,341,395,504,526,639,681,701,724,736,769,829,808,858,867,920,956]"
   ]
  },
  {
   "cell_type": "code",
   "execution_count": 58,
   "metadata": {},
   "outputs": [],
   "source": [
    "sel_feature = [257,269,308,315,336,341,395,504,526,639,681,701,724,736,769,808,829,867,920,956]"
   ]
  },
  {
   "cell_type": "code",
   "execution_count": 62,
   "metadata": {},
   "outputs": [
    {
     "name": "stderr",
     "output_type": "stream",
     "text": [
      "/opt/conda/lib/python3.6/site-packages/ipykernel_launcher.py:2: SettingWithCopyWarning: \n",
      "A value is trying to be set on a copy of a slice from a DataFrame.\n",
      "Try using .loc[row_indexer,col_indexer] = value instead\n",
      "\n",
      "See the caveats in the documentation: http://pandas.pydata.org/pandas-docs/stable/indexing.html#indexing-view-versus-copy\n",
      "  \n"
     ]
    }
   ],
   "source": [
    "madelon2_feat_sel = madelon2[sel_feature]\n",
    "madelon2_feat_sel['target'] = madelon2['target']"
   ]
  },
  {
   "cell_type": "code",
   "execution_count": 63,
   "metadata": {},
   "outputs": [
    {
     "data": {
      "text/html": [
       "<div>\n",
       "<table border=\"1\" class=\"dataframe\">\n",
       "  <thead>\n",
       "    <tr style=\"text-align: right;\">\n",
       "      <th></th>\n",
       "      <th>feat_257</th>\n",
       "      <th>feat_269</th>\n",
       "      <th>feat_308</th>\n",
       "      <th>feat_315</th>\n",
       "      <th>feat_336</th>\n",
       "      <th>feat_341</th>\n",
       "      <th>feat_395</th>\n",
       "      <th>feat_504</th>\n",
       "      <th>feat_526</th>\n",
       "      <th>feat_639</th>\n",
       "      <th>...</th>\n",
       "      <th>feat_701</th>\n",
       "      <th>feat_724</th>\n",
       "      <th>feat_736</th>\n",
       "      <th>feat_769</th>\n",
       "      <th>feat_808</th>\n",
       "      <th>feat_829</th>\n",
       "      <th>feat_867</th>\n",
       "      <th>feat_920</th>\n",
       "      <th>feat_956</th>\n",
       "      <th>target</th>\n",
       "    </tr>\n",
       "    <tr>\n",
       "      <th>_id</th>\n",
       "      <th></th>\n",
       "      <th></th>\n",
       "      <th></th>\n",
       "      <th></th>\n",
       "      <th></th>\n",
       "      <th></th>\n",
       "      <th></th>\n",
       "      <th></th>\n",
       "      <th></th>\n",
       "      <th></th>\n",
       "      <th></th>\n",
       "      <th></th>\n",
       "      <th></th>\n",
       "      <th></th>\n",
       "      <th></th>\n",
       "      <th></th>\n",
       "      <th></th>\n",
       "      <th></th>\n",
       "      <th></th>\n",
       "      <th></th>\n",
       "      <th></th>\n",
       "    </tr>\n",
       "  </thead>\n",
       "  <tbody>\n",
       "    <tr>\n",
       "      <th>148780</th>\n",
       "      <td>-0.851259</td>\n",
       "      <td>-0.300569</td>\n",
       "      <td>0.367987</td>\n",
       "      <td>-0.192615</td>\n",
       "      <td>-1.803202</td>\n",
       "      <td>-2.766699</td>\n",
       "      <td>-1.405981</td>\n",
       "      <td>-2.784972</td>\n",
       "      <td>0.726208</td>\n",
       "      <td>-2.266168</td>\n",
       "      <td>...</td>\n",
       "      <td>-0.053463</td>\n",
       "      <td>1.295230</td>\n",
       "      <td>-1.048954</td>\n",
       "      <td>0.149339</td>\n",
       "      <td>0.067373</td>\n",
       "      <td>-3.195833</td>\n",
       "      <td>0.444804</td>\n",
       "      <td>1.504430</td>\n",
       "      <td>-1.708909</td>\n",
       "      <td>0</td>\n",
       "    </tr>\n",
       "    <tr>\n",
       "      <th>148793</th>\n",
       "      <td>-1.083087</td>\n",
       "      <td>0.325390</td>\n",
       "      <td>-1.199223</td>\n",
       "      <td>-0.085938</td>\n",
       "      <td>2.177321</td>\n",
       "      <td>2.053319</td>\n",
       "      <td>3.055261</td>\n",
       "      <td>0.179121</td>\n",
       "      <td>-2.036843</td>\n",
       "      <td>0.958293</td>\n",
       "      <td>...</td>\n",
       "      <td>1.994664</td>\n",
       "      <td>-2.032747</td>\n",
       "      <td>2.173525</td>\n",
       "      <td>-2.318137</td>\n",
       "      <td>0.026976</td>\n",
       "      <td>-1.360937</td>\n",
       "      <td>-2.086820</td>\n",
       "      <td>1.960498</td>\n",
       "      <td>0.484053</td>\n",
       "      <td>1</td>\n",
       "    </tr>\n",
       "    <tr>\n",
       "      <th>148815</th>\n",
       "      <td>-2.094362</td>\n",
       "      <td>2.440490</td>\n",
       "      <td>-0.375420</td>\n",
       "      <td>2.289057</td>\n",
       "      <td>-2.427368</td>\n",
       "      <td>-2.019872</td>\n",
       "      <td>-0.196365</td>\n",
       "      <td>-2.617986</td>\n",
       "      <td>1.772104</td>\n",
       "      <td>-3.625521</td>\n",
       "      <td>...</td>\n",
       "      <td>-3.146093</td>\n",
       "      <td>-0.522835</td>\n",
       "      <td>0.025405</td>\n",
       "      <td>0.188211</td>\n",
       "      <td>0.484484</td>\n",
       "      <td>-2.902562</td>\n",
       "      <td>1.942473</td>\n",
       "      <td>0.133146</td>\n",
       "      <td>-3.244074</td>\n",
       "      <td>1</td>\n",
       "    </tr>\n",
       "    <tr>\n",
       "      <th>148862</th>\n",
       "      <td>0.674384</td>\n",
       "      <td>2.447988</td>\n",
       "      <td>1.282265</td>\n",
       "      <td>0.449691</td>\n",
       "      <td>0.364986</td>\n",
       "      <td>1.790622</td>\n",
       "      <td>-0.142277</td>\n",
       "      <td>-0.641298</td>\n",
       "      <td>0.090068</td>\n",
       "      <td>0.036471</td>\n",
       "      <td>...</td>\n",
       "      <td>-1.807506</td>\n",
       "      <td>-0.525872</td>\n",
       "      <td>-0.117339</td>\n",
       "      <td>-1.128687</td>\n",
       "      <td>-0.560415</td>\n",
       "      <td>1.652406</td>\n",
       "      <td>0.803177</td>\n",
       "      <td>-1.667997</td>\n",
       "      <td>0.347165</td>\n",
       "      <td>0</td>\n",
       "    </tr>\n",
       "    <tr>\n",
       "      <th>148870</th>\n",
       "      <td>-1.598036</td>\n",
       "      <td>-0.894317</td>\n",
       "      <td>3.081611</td>\n",
       "      <td>0.307347</td>\n",
       "      <td>-6.233611</td>\n",
       "      <td>-5.296784</td>\n",
       "      <td>-3.821828</td>\n",
       "      <td>-2.016268</td>\n",
       "      <td>1.857158</td>\n",
       "      <td>-3.942633</td>\n",
       "      <td>...</td>\n",
       "      <td>-1.943313</td>\n",
       "      <td>1.186126</td>\n",
       "      <td>-4.441105</td>\n",
       "      <td>2.372059</td>\n",
       "      <td>2.229630</td>\n",
       "      <td>-3.415076</td>\n",
       "      <td>3.757611</td>\n",
       "      <td>-0.761091</td>\n",
       "      <td>-2.964951</td>\n",
       "      <td>1</td>\n",
       "    </tr>\n",
       "  </tbody>\n",
       "</table>\n",
       "<p>5 rows × 21 columns</p>\n",
       "</div>"
      ],
      "text/plain": [
       "        feat_257  feat_269  feat_308  feat_315  feat_336  feat_341  feat_395  \\\n",
       "_id                                                                            \n",
       "148780 -0.851259 -0.300569  0.367987 -0.192615 -1.803202 -2.766699 -1.405981   \n",
       "148793 -1.083087  0.325390 -1.199223 -0.085938  2.177321  2.053319  3.055261   \n",
       "148815 -2.094362  2.440490 -0.375420  2.289057 -2.427368 -2.019872 -0.196365   \n",
       "148862  0.674384  2.447988  1.282265  0.449691  0.364986  1.790622 -0.142277   \n",
       "148870 -1.598036 -0.894317  3.081611  0.307347 -6.233611 -5.296784 -3.821828   \n",
       "\n",
       "        feat_504  feat_526  feat_639   ...    feat_701  feat_724  feat_736  \\\n",
       "_id                                    ...                                   \n",
       "148780 -2.784972  0.726208 -2.266168   ...   -0.053463  1.295230 -1.048954   \n",
       "148793  0.179121 -2.036843  0.958293   ...    1.994664 -2.032747  2.173525   \n",
       "148815 -2.617986  1.772104 -3.625521   ...   -3.146093 -0.522835  0.025405   \n",
       "148862 -0.641298  0.090068  0.036471   ...   -1.807506 -0.525872 -0.117339   \n",
       "148870 -2.016268  1.857158 -3.942633   ...   -1.943313  1.186126 -4.441105   \n",
       "\n",
       "        feat_769  feat_808  feat_829  feat_867  feat_920  feat_956  target  \n",
       "_id                                                                         \n",
       "148780  0.149339  0.067373 -3.195833  0.444804  1.504430 -1.708909       0  \n",
       "148793 -2.318137  0.026976 -1.360937 -2.086820  1.960498  0.484053       1  \n",
       "148815  0.188211  0.484484 -2.902562  1.942473  0.133146 -3.244074       1  \n",
       "148862 -1.128687 -0.560415  1.652406  0.803177 -1.667997  0.347165       0  \n",
       "148870  2.372059  2.229630 -3.415076  3.757611 -0.761091 -2.964951       1  \n",
       "\n",
       "[5 rows x 21 columns]"
      ]
     },
     "execution_count": 63,
     "metadata": {},
     "output_type": "execute_result"
    }
   ],
   "source": [
    "madelon2_feat_sel.head()"
   ]
  },
  {
   "cell_type": "code",
   "execution_count": 64,
   "metadata": {},
   "outputs": [],
   "source": [
    "madelon2_feat_sel.to_pickle('/home/jovyan/Practice_exercise/Madelon/data/madelon2_feature_selected.p')"
   ]
  },
  {
   "cell_type": "code",
   "execution_count": null,
   "metadata": {},
   "outputs": [],
   "source": []
  }
 ],
 "metadata": {
  "kernelspec": {
   "display_name": "Python 3",
   "language": "python",
   "name": "python3"
  },
  "language_info": {
   "codemirror_mode": {
    "name": "ipython",
    "version": 3
   },
   "file_extension": ".py",
   "mimetype": "text/x-python",
   "name": "python",
   "nbconvert_exporter": "python",
   "pygments_lexer": "ipython3",
   "version": "3.6.2"
  }
 },
 "nbformat": 4,
 "nbformat_minor": 2
}
