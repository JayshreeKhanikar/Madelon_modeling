{
 "cells": [
  {
   "cell_type": "code",
   "execution_count": 2,
   "metadata": {},
   "outputs": [
    {
     "name": "stdout",
     "output_type": "stream",
     "text": [
      "[Errno 2] No such file or directory: '/home/jovyan/Practice_exercise/Madelon/'\n",
      "/home/jovyan/Jupyter_Repository/Practice_exercise/Madelon/ipynb\n"
     ]
    }
   ],
   "source": [
    "cd /home/jovyan/Practice_exercise/Madelon/"
   ]
  },
  {
   "cell_type": "code",
   "execution_count": 3,
   "metadata": {},
   "outputs": [],
   "source": [
    "%matplotlib inline\n",
    "import csv\n",
    "from sklearn.metrics import roc_auc_score, make_scorer"
   ]
  },
  {
   "cell_type": "code",
   "execution_count": 4,
   "metadata": {},
   "outputs": [
    {
     "name": "stderr",
     "output_type": "stream",
     "text": [
      "ERROR:root:File `'Imports_functions.py'` not found.\n"
     ]
    }
   ],
   "source": [
    "%run Imports_functions.py\n",
    "%matplotlib inline"
   ]
  },
  {
   "cell_type": "code",
   "execution_count": 1,
   "metadata": {},
   "outputs": [
    {
     "ename": "NameError",
     "evalue": "name 'pd' is not defined",
     "output_type": "error",
     "traceback": [
      "\u001b[0;31m---------------------------------------------------------------------------\u001b[0m",
      "\u001b[0;31mNameError\u001b[0m                                 Traceback (most recent call last)",
      "\u001b[0;32m<ipython-input-1-753fdfa2fe85>\u001b[0m in \u001b[0;36m<module>\u001b[0;34m()\u001b[0m\n\u001b[0;32m----> 1\u001b[0;31m \u001b[0mmadelon\u001b[0m \u001b[0;34m=\u001b[0m \u001b[0mpd\u001b[0m\u001b[0;34m.\u001b[0m\u001b[0mread_csv\u001b[0m\u001b[0;34m(\u001b[0m\u001b[0;34m'/home/jovyan/Practice_exercise/Madelon/data/madelon.csv'\u001b[0m\u001b[0;34m,\u001b[0m \u001b[0mdelimiter\u001b[0m \u001b[0;34m=\u001b[0m\u001b[0;34m','\u001b[0m\u001b[0;34m,\u001b[0m \u001b[0;34m)\u001b[0m\u001b[0;34m\u001b[0m\u001b[0m\n\u001b[0m\u001b[1;32m      2\u001b[0m \u001b[0;31m#madelon_train.columns = list(range(501))\u001b[0m\u001b[0;34m\u001b[0m\u001b[0;34m\u001b[0m\u001b[0m\n\u001b[1;32m      3\u001b[0m \u001b[0mmadelon\u001b[0m\u001b[0;34m.\u001b[0m\u001b[0mdrop\u001b[0m\u001b[0;34m(\u001b[0m\u001b[0;34m'Unnamed: 0'\u001b[0m\u001b[0;34m,\u001b[0m \u001b[0maxis\u001b[0m\u001b[0;34m=\u001b[0m \u001b[0;36m1\u001b[0m\u001b[0;34m,\u001b[0m \u001b[0minplace\u001b[0m \u001b[0;34m=\u001b[0m \u001b[0;32mTrue\u001b[0m\u001b[0;34m)\u001b[0m\u001b[0;34m\u001b[0m\u001b[0m\n",
      "\u001b[0;31mNameError\u001b[0m: name 'pd' is not defined"
     ]
    }
   ],
   "source": [
    "madelon = pd.read_csv('/home/jovyan/Practice_exercise/Madelon/data/madelon.csv', delimiter =',', )\n",
    "#madelon_train.columns = list(range(501))\n",
    "madelon.drop('Unnamed: 0', axis= 1, inplace = True)"
   ]
  },
  {
   "cell_type": "code",
   "execution_count": 7,
   "metadata": {},
   "outputs": [],
   "source": [
    "madelon.set_index('_id', inplace = True)"
   ]
  },
  {
   "cell_type": "code",
   "execution_count": 8,
   "metadata": {},
   "outputs": [
    {
     "data": {
      "text/html": [
       "<div>\n",
       "<table border=\"1\" class=\"dataframe\">\n",
       "  <thead>\n",
       "    <tr style=\"text-align: right;\">\n",
       "      <th></th>\n",
       "      <th>feat_000</th>\n",
       "      <th>feat_001</th>\n",
       "      <th>feat_002</th>\n",
       "      <th>feat_003</th>\n",
       "      <th>feat_004</th>\n",
       "      <th>feat_005</th>\n",
       "      <th>feat_006</th>\n",
       "      <th>feat_007</th>\n",
       "      <th>feat_008</th>\n",
       "      <th>feat_009</th>\n",
       "      <th>...</th>\n",
       "      <th>feat_991</th>\n",
       "      <th>feat_992</th>\n",
       "      <th>feat_993</th>\n",
       "      <th>feat_994</th>\n",
       "      <th>feat_995</th>\n",
       "      <th>feat_996</th>\n",
       "      <th>feat_997</th>\n",
       "      <th>feat_998</th>\n",
       "      <th>feat_999</th>\n",
       "      <th>target</th>\n",
       "    </tr>\n",
       "    <tr>\n",
       "      <th>_id</th>\n",
       "      <th></th>\n",
       "      <th></th>\n",
       "      <th></th>\n",
       "      <th></th>\n",
       "      <th></th>\n",
       "      <th></th>\n",
       "      <th></th>\n",
       "      <th></th>\n",
       "      <th></th>\n",
       "      <th></th>\n",
       "      <th></th>\n",
       "      <th></th>\n",
       "      <th></th>\n",
       "      <th></th>\n",
       "      <th></th>\n",
       "      <th></th>\n",
       "      <th></th>\n",
       "      <th></th>\n",
       "      <th></th>\n",
       "      <th></th>\n",
       "      <th></th>\n",
       "    </tr>\n",
       "  </thead>\n",
       "  <tbody>\n",
       "    <tr>\n",
       "      <th>3</th>\n",
       "      <td>0.717731</td>\n",
       "      <td>-0.125490</td>\n",
       "      <td>0.366056</td>\n",
       "      <td>-1.624306</td>\n",
       "      <td>-0.710490</td>\n",
       "      <td>-1.141389</td>\n",
       "      <td>-0.034528</td>\n",
       "      <td>-1.023395</td>\n",
       "      <td>0.587004</td>\n",
       "      <td>0.263354</td>\n",
       "      <td>...</td>\n",
       "      <td>-1.788001</td>\n",
       "      <td>-0.862344</td>\n",
       "      <td>-1.938300</td>\n",
       "      <td>1.528354</td>\n",
       "      <td>-2.054189</td>\n",
       "      <td>-0.050716</td>\n",
       "      <td>-1.112139</td>\n",
       "      <td>-1.144790</td>\n",
       "      <td>1.462363</td>\n",
       "      <td>0</td>\n",
       "    </tr>\n",
       "    <tr>\n",
       "      <th>10</th>\n",
       "      <td>-0.675215</td>\n",
       "      <td>0.086776</td>\n",
       "      <td>-2.518189</td>\n",
       "      <td>-0.454617</td>\n",
       "      <td>1.282519</td>\n",
       "      <td>0.202905</td>\n",
       "      <td>-1.196309</td>\n",
       "      <td>0.176143</td>\n",
       "      <td>1.226839</td>\n",
       "      <td>0.440491</td>\n",
       "      <td>...</td>\n",
       "      <td>1.390918</td>\n",
       "      <td>-1.471106</td>\n",
       "      <td>1.275893</td>\n",
       "      <td>0.278696</td>\n",
       "      <td>0.359002</td>\n",
       "      <td>-0.050577</td>\n",
       "      <td>-0.387068</td>\n",
       "      <td>-0.634043</td>\n",
       "      <td>0.778126</td>\n",
       "      <td>1</td>\n",
       "    </tr>\n",
       "    <tr>\n",
       "      <th>11</th>\n",
       "      <td>1.499321</td>\n",
       "      <td>0.889471</td>\n",
       "      <td>0.165157</td>\n",
       "      <td>0.631984</td>\n",
       "      <td>0.418684</td>\n",
       "      <td>0.040188</td>\n",
       "      <td>-0.831640</td>\n",
       "      <td>1.407081</td>\n",
       "      <td>0.966045</td>\n",
       "      <td>-0.455713</td>\n",
       "      <td>...</td>\n",
       "      <td>0.167580</td>\n",
       "      <td>-0.790655</td>\n",
       "      <td>-1.511765</td>\n",
       "      <td>0.172055</td>\n",
       "      <td>0.674117</td>\n",
       "      <td>0.682718</td>\n",
       "      <td>1.870969</td>\n",
       "      <td>0.591343</td>\n",
       "      <td>-2.442430</td>\n",
       "      <td>0</td>\n",
       "    </tr>\n",
       "    <tr>\n",
       "      <th>25</th>\n",
       "      <td>0.087062</td>\n",
       "      <td>-0.617596</td>\n",
       "      <td>0.345346</td>\n",
       "      <td>0.328586</td>\n",
       "      <td>0.313580</td>\n",
       "      <td>0.243490</td>\n",
       "      <td>0.561365</td>\n",
       "      <td>-1.089277</td>\n",
       "      <td>-0.014853</td>\n",
       "      <td>0.696056</td>\n",
       "      <td>...</td>\n",
       "      <td>-1.780752</td>\n",
       "      <td>-0.406831</td>\n",
       "      <td>1.553864</td>\n",
       "      <td>0.229541</td>\n",
       "      <td>-0.168318</td>\n",
       "      <td>-2.446655</td>\n",
       "      <td>-0.424215</td>\n",
       "      <td>-0.315563</td>\n",
       "      <td>-0.547567</td>\n",
       "      <td>0</td>\n",
       "    </tr>\n",
       "    <tr>\n",
       "      <th>76</th>\n",
       "      <td>-0.856826</td>\n",
       "      <td>1.134675</td>\n",
       "      <td>0.036673</td>\n",
       "      <td>-1.639218</td>\n",
       "      <td>-1.130538</td>\n",
       "      <td>-1.361096</td>\n",
       "      <td>0.957973</td>\n",
       "      <td>0.899010</td>\n",
       "      <td>0.360571</td>\n",
       "      <td>-0.851019</td>\n",
       "      <td>...</td>\n",
       "      <td>0.648230</td>\n",
       "      <td>-2.228293</td>\n",
       "      <td>-0.081368</td>\n",
       "      <td>-0.767849</td>\n",
       "      <td>-0.125432</td>\n",
       "      <td>1.127015</td>\n",
       "      <td>-1.545067</td>\n",
       "      <td>-1.052305</td>\n",
       "      <td>-0.002943</td>\n",
       "      <td>0</td>\n",
       "    </tr>\n",
       "  </tbody>\n",
       "</table>\n",
       "<p>5 rows × 1001 columns</p>\n",
       "</div>"
      ],
      "text/plain": [
       "     feat_000  feat_001  feat_002  feat_003  feat_004  feat_005  feat_006  \\\n",
       "_id                                                                         \n",
       "3    0.717731 -0.125490  0.366056 -1.624306 -0.710490 -1.141389 -0.034528   \n",
       "10  -0.675215  0.086776 -2.518189 -0.454617  1.282519  0.202905 -1.196309   \n",
       "11   1.499321  0.889471  0.165157  0.631984  0.418684  0.040188 -0.831640   \n",
       "25   0.087062 -0.617596  0.345346  0.328586  0.313580  0.243490  0.561365   \n",
       "76  -0.856826  1.134675  0.036673 -1.639218 -1.130538 -1.361096  0.957973   \n",
       "\n",
       "     feat_007  feat_008  feat_009   ...    feat_991  feat_992  feat_993  \\\n",
       "_id                                 ...                                   \n",
       "3   -1.023395  0.587004  0.263354   ...   -1.788001 -0.862344 -1.938300   \n",
       "10   0.176143  1.226839  0.440491   ...    1.390918 -1.471106  1.275893   \n",
       "11   1.407081  0.966045 -0.455713   ...    0.167580 -0.790655 -1.511765   \n",
       "25  -1.089277 -0.014853  0.696056   ...   -1.780752 -0.406831  1.553864   \n",
       "76   0.899010  0.360571 -0.851019   ...    0.648230 -2.228293 -0.081368   \n",
       "\n",
       "     feat_994  feat_995  feat_996  feat_997  feat_998  feat_999  target  \n",
       "_id                                                                      \n",
       "3    1.528354 -2.054189 -0.050716 -1.112139 -1.144790  1.462363       0  \n",
       "10   0.278696  0.359002 -0.050577 -0.387068 -0.634043  0.778126       1  \n",
       "11   0.172055  0.674117  0.682718  1.870969  0.591343 -2.442430       0  \n",
       "25   0.229541 -0.168318 -2.446655 -0.424215 -0.315563 -0.547567       0  \n",
       "76  -0.767849 -0.125432  1.127015 -1.545067 -1.052305 -0.002943       0  \n",
       "\n",
       "[5 rows x 1001 columns]"
      ]
     },
     "execution_count": 8,
     "metadata": {},
     "output_type": "execute_result"
    }
   ],
   "source": [
    "madelon.head()"
   ]
  },
  {
   "cell_type": "code",
   "execution_count": 49,
   "metadata": {},
   "outputs": [],
   "source": [
    "# target = madelon['target']\n",
    "# x = madelon.drop('target', axis= 1)"
   ]
  },
  {
   "cell_type": "code",
   "execution_count": 50,
   "metadata": {},
   "outputs": [],
   "source": [
    "#x.shape, target.shape"
   ]
  },
  {
   "cell_type": "markdown",
   "metadata": {},
   "source": [
    "## Benchmarking with LogisticRegression, DecisionTreeClassifier, KNeighborsClassifier, SVC"
   ]
  },
  {
   "cell_type": "code",
   "execution_count": 9,
   "metadata": {},
   "outputs": [],
   "source": [
    "#getting 1% of Josh data\n",
    "madelon_sam = madelon.sample(2000)\n",
    "target_sam = madelon_sam['target']\n",
    "x_sam = madelon_sam.drop('target', axis= 1)\n",
    "#splitting data into xtrain and xtest \n",
    "\n",
    "#xtrain, xtest, ytrain, ytest = train_test_split(x_sam, target_sam, test_size = 0.3)"
   ]
  },
  {
   "cell_type": "code",
   "execution_count": 10,
   "metadata": {},
   "outputs": [],
   "source": [
    "sam1_benchmark_score = benchmark_score(x_sam, target_sam, LogisticRegression(), KNeighborsClassifier(), DecisionTreeClassifier(), SVC(probability=True))"
   ]
  },
  {
   "cell_type": "code",
   "execution_count": 11,
   "metadata": {},
   "outputs": [
    {
     "data": {
      "text/html": [
       "<div>\n",
       "<table border=\"1\" class=\"dataframe\">\n",
       "  <thead>\n",
       "    <tr style=\"text-align: right;\">\n",
       "      <th></th>\n",
       "      <th>LogisticRegression(C=1.0, class_weight=None, dual=False, fit_intercept=True,\n",
       "          intercept_scaling=1, max_iter=100, multi_class='ovr', n_jobs=1,\n",
       "          penalty='l2', random_state=None, solver='liblinear', tol=0.0001,\n",
       "          verbose=0, warm_start=False)</th>\n",
       "      <th>KNeighborsClassifier(algorithm='auto', leaf_size=30, metric='minkowski',\n",
       "           metric_params=None, n_jobs=1, n_neighbors=5, p=2,\n",
       "           weights='uniform')</th>\n",
       "      <th>DecisionTreeClassifier(class_weight=None, criterion='gini', max_depth=None,\n",
       "            max_features=None, max_leaf_nodes=None,\n",
       "            min_impurity_decrease=0.0, min_impurity_split=None,\n",
       "            min_samples_leaf=1, min_samples_split=2,\n",
       "            min_weight_fraction_leaf=0.0, presort=False, random_state=None,\n",
       "            splitter='best')</th>\n",
       "      <th>SVC(C=1.0, cache_size=200, class_weight=None, coef0=0.0,\n",
       "  decision_function_shape='ovr', degree=3, gamma='auto', kernel='rbf',\n",
       "  max_iter=-1, probability=True, random_state=None, shrinking=True,\n",
       "  tol=0.001, verbose=False)</th>\n",
       "    </tr>\n",
       "  </thead>\n",
       "  <tbody>\n",
       "    <tr>\n",
       "      <th>0</th>\n",
       "      <td>0.533724</td>\n",
       "      <td>0.614236</td>\n",
       "      <td>0.703796</td>\n",
       "      <td>0.651159</td>\n",
       "    </tr>\n",
       "  </tbody>\n",
       "</table>\n",
       "</div>"
      ],
      "text/plain": [
       "   LogisticRegression(C=1.0, class_weight=None, dual=False, fit_intercept=True,\\n          intercept_scaling=1, max_iter=100, multi_class='ovr', n_jobs=1,\\n          penalty='l2', random_state=None, solver='liblinear', tol=0.0001,\\n          verbose=0, warm_start=False)  \\\n",
       "0                                           0.533724                                                                                                                                                                                                                             \n",
       "\n",
       "   KNeighborsClassifier(algorithm='auto', leaf_size=30, metric='minkowski',\\n           metric_params=None, n_jobs=1, n_neighbors=5, p=2,\\n           weights='uniform')  \\\n",
       "0                                           0.614236                                                                                                                       \n",
       "\n",
       "   DecisionTreeClassifier(class_weight=None, criterion='gini', max_depth=None,\\n            max_features=None, max_leaf_nodes=None,\\n            min_impurity_decrease=0.0, min_impurity_split=None,\\n            min_samples_leaf=1, min_samples_split=2,\\n            min_weight_fraction_leaf=0.0, presort=False, random_state=None,\\n            splitter='best')  \\\n",
       "0                                           0.703796                                                                                                                                                                                                                                                                                                                    \n",
       "\n",
       "   SVC(C=1.0, cache_size=200, class_weight=None, coef0=0.0,\\n  decision_function_shape='ovr', degree=3, gamma='auto', kernel='rbf',\\n  max_iter=-1, probability=True, random_state=None, shrinking=True,\\n  tol=0.001, verbose=False)  \n",
       "0                                           0.651159                                                                                                                                                                                   "
      ]
     },
     "execution_count": 11,
     "metadata": {},
     "output_type": "execute_result"
    }
   ],
   "source": [
    "sam1_benchmark_score"
   ]
  },
  {
   "cell_type": "code",
   "execution_count": 12,
   "metadata": {},
   "outputs": [],
   "source": [
    "sam1_benchmark_score.to_pickle('/home/jovyan/Practice_exercise/Madelon/data/sam1_benchmark_score.p')"
   ]
  },
  {
   "cell_type": "markdown",
   "metadata": {},
   "source": [
    "## Feature Selection by Iterative unsupervised method \n",
    "Get R2 for each column. I am going to use DecisionTreeRegressor, KNneighborRegresssor, SVR, SGDRegressor as an estimator and find out features that are important."
   ]
  },
  {
   "cell_type": "code",
   "execution_count": 13,
   "metadata": {},
   "outputs": [
    {
     "name": "stderr",
     "output_type": "stream",
     "text": [
      "100%|██████████| 1000/1000 [26:25<00:00,  1.59s/it]\n"
     ]
    }
   ],
   "source": [
    "DTscore = iterative_score(x_sam, DecisionTreeRegressor)"
   ]
  },
  {
   "cell_type": "code",
   "execution_count": 14,
   "metadata": {},
   "outputs": [
    {
     "data": {
      "text/plain": [
       "Index(['Feature', 'Score'], dtype='object')"
      ]
     },
     "execution_count": 14,
     "metadata": {},
     "output_type": "execute_result"
    }
   ],
   "source": [
    "DTscores = pd.DataFrame()\n",
    "DTscores['Feature'] = DTscore.keys()\n",
    "DTscores['Score'] = DTscore.values()\n",
    "DTscores.columns"
   ]
  },
  {
   "cell_type": "code",
   "execution_count": 16,
   "metadata": {},
   "outputs": [
    {
     "data": {
      "text/plain": [
       "<matplotlib.axes._subplots.AxesSubplot at 0x7f802f6ea128>"
      ]
     },
     "execution_count": 16,
     "metadata": {},
     "output_type": "execute_result"
    },
    {
     "data": {
      "image/png": "[encoded data removed]",
      "text/plain": [
       "<matplotlib.figure.Figure at 0x7f802fb3dd30>"
      ]
     },
     "metadata": {},
     "output_type": "display_data"
    }
   ],
   "source": [
    "dt_features =DTscores.sort_values('Score',ascending=False).iloc[:30].plot.barh(x='Feature')\n",
    "dt_features"
   ]
  },
  {
   "cell_type": "markdown",
   "metadata": {},
   "source": [
    "feature selected:\n",
    "257,269,308,315,395,341,336,526,504,639,681,724,701,736,769,867,808,829,920,956"
   ]
  },
  {
   "cell_type": "markdown",
   "metadata": {},
   "source": [
    "## Comparing Covariance between features:\n",
    "selecting features based on high covariance between them."
   ]
  },
  {
   "cell_type": "code",
   "execution_count": 39,
   "metadata": {},
   "outputs": [],
   "source": [
    "x_cov = x_sam.cov().unstack()"
   ]
  },
  {
   "cell_type": "code",
   "execution_count": 40,
   "metadata": {},
   "outputs": [
    {
     "name": "stderr",
     "output_type": "stream",
     "text": [
      "/opt/conda/lib/python3.6/site-packages/ipykernel_launcher.py:1: FutureWarning: order is deprecated, use sort_values(...)\n",
      "  \"\"\"Entry point for launching an IPython kernel.\n"
     ]
    }
   ],
   "source": [
    "x_cov_desc = x_cov.order(kind=\"quicksort\", ascending= False)\n"
   ]
  },
  {
   "cell_type": "markdown",
   "metadata": {},
   "source": [
    "Features selected: I selected features from first top 100 covariances. I got 18.\n",
    "257,269,315,395,336,341,639,681,504,526,724,769,736,701,829,867,920,956 "
   ]
  },
  {
   "cell_type": "markdown",
   "metadata": {},
   "source": [
    "## SelectKBest feature selection"
   ]
  },
  {
   "cell_type": "code",
   "execution_count": 41,
   "metadata": {},
   "outputs": [
    {
     "data": {
      "text/plain": [
       "SelectKBest(k=100, score_func=<function f_classif at 0x7f506b4fa268>)"
      ]
     },
     "execution_count": 41,
     "metadata": {},
     "output_type": "execute_result"
    }
   ],
   "source": [
    "sk = SelectKBest(k=100)\n",
    "sk.fit(x_sam, target_sam)"
   ]
  },
  {
   "cell_type": "code",
   "execution_count": 42,
   "metadata": {},
   "outputs": [],
   "source": [
    "sk_df = pd.DataFrame()\n",
    "sk_df['Feature'] = sk.get_support(indices=True)\n",
    "sk_df['F-score'] = sk.scores_[sk.get_support(indices=True)]\n",
    "sk_df['p-values'] = sk.pvalues_[sk.get_support(indices=True)]"
   ]
  },
  {
   "cell_type": "code",
   "execution_count": 43,
   "metadata": {},
   "outputs": [
    {
     "data": {
      "text/plain": [
       "<matplotlib.axes._subplots.AxesSubplot at 0x7f505e3d0ba8>"
      ]
     },
     "execution_count": 43,
     "metadata": {},
     "output_type": "execute_result"
    },
    {
     "data": {
      "image/png": "[encoded data removed]",
      "text/plain": [
       "<matplotlib.figure.Figure at 0x7f505e72c7b8>"
      ]
     },
     "metadata": {},
     "output_type": "display_data"
    }
   ],
   "source": [
    "sk_df.sort_values('F-score',ascending=False).iloc[:25].plot.barh(x='Feature')"
   ]
  },
  {
   "cell_type": "markdown",
   "metadata": {},
   "source": [
    "Features selected based on F-score drop off boundary: 257,269,315,341,336,504,681,701,769,736,829,808,920,974"
   ]
  },
  {
   "cell_type": "markdown",
   "metadata": {},
   "source": [
    "## Feature selection by RandomForest"
   ]
  },
  {
   "cell_type": "code",
   "execution_count": 44,
   "metadata": {},
   "outputs": [],
   "source": [
    "from sklearn.ensemble import RandomForestClassifier\n",
    "from sklearn.model_selection import GridSearchCV \n",
    "from sklearn.pipeline import Pipeline\n",
    "from sklearn.preprocessing import StandardScaler"
   ]
  },
  {
   "cell_type": "code",
   "execution_count": 45,
   "metadata": {},
   "outputs": [],
   "source": [
    "rf_pipe = Pipeline([\n",
    "    ('scaler',StandardScaler()),\n",
    "    ('clf',RandomForestClassifier(random_state=42))\n",
    "])\n",
    "\n",
    "rfparams = {\n",
    "    'clf__n_estimators':[10, 50,100],\n",
    "    'clf__max_depth':[10,15,20,25]\n",
    "}"
   ]
  },
  {
   "cell_type": "code",
   "execution_count": 46,
   "metadata": {},
   "outputs": [],
   "source": [
    "gs_rf = GridSearchCV(rf_pipe, rfparams, cv= 3, n_jobs= -1)"
   ]
  },
  {
   "cell_type": "code",
   "execution_count": 47,
   "metadata": {},
   "outputs": [
    {
     "data": {
      "text/plain": [
       "GridSearchCV(cv=3, error_score='raise',\n",
       "       estimator=Pipeline(memory=None,\n",
       "     steps=[('scaler', StandardScaler(copy=True, with_mean=True, with_std=True)), ('clf', RandomForestClassifier(bootstrap=True, class_weight=None, criterion='gini',\n",
       "            max_depth=None, max_features='auto', max_leaf_nodes=None,\n",
       "            min_impurity_decreas...timators=10, n_jobs=1,\n",
       "            oob_score=False, random_state=42, verbose=0, warm_start=False))]),\n",
       "       fit_params=None, iid=True, n_jobs=-1,\n",
       "       param_grid={'clf__n_estimators': [10, 50, 100], 'clf__max_depth': [10, 15, 20, 25]},\n",
       "       pre_dispatch='2*n_jobs', refit=True, return_train_score='warn',\n",
       "       scoring=None, verbose=0)"
      ]
     },
     "execution_count": 47,
     "metadata": {},
     "output_type": "execute_result"
    }
   ],
   "source": [
    "gs_rf.fit(x_sam, target_sam)"
   ]
  },
  {
   "cell_type": "code",
   "execution_count": 50,
   "metadata": {},
   "outputs": [],
   "source": [
    "rf_feature = gs_rf.best_estimator_.named_steps['clf'].feature_importances_"
   ]
  },
  {
   "cell_type": "code",
   "execution_count": 51,
   "metadata": {},
   "outputs": [],
   "source": [
    "rf_importance = pd.DataFrame(list(zip(x_sam.columns, rf_feature))).rename(columns={0:'Feature',1:'Importance'})"
   ]
  },
  {
   "cell_type": "code",
   "execution_count": 52,
   "metadata": {},
   "outputs": [
    {
     "name": "stderr",
     "output_type": "stream",
     "text": [
      "/opt/conda/lib/python3.6/site-packages/ipykernel_launcher.py:1: FutureWarning: sort(columns=....) is deprecated, use sort_values(by=.....)\n",
      "  \"\"\"Entry point for launching an IPython kernel.\n"
     ]
    },
    {
     "data": {
      "text/plain": [
       "<matplotlib.axes._subplots.AxesSubplot at 0x7f505e78f208>"
      ]
     },
     "execution_count": 52,
     "metadata": {},
     "output_type": "execute_result"
    },
    {
     "data": {
      "image/png": "[encoded data removed]",
      "text/plain": [
       "<matplotlib.figure.Figure at 0x7f505e758358>"
      ]
     },
     "metadata": {},
     "output_type": "display_data"
    }
   ],
   "source": [
    "rf_importance.sort('Importance', ascending= False).iloc[:26].plot.barh(x='Feature')"
   ]
  },
  {
   "cell_type": "markdown",
   "metadata": {},
   "source": [
    "Features selected: 257,269,308,315,336,341,395,504,554,639,681,701,724,736,769,808,829,867,920,956"
   ]
  },
  {
   "cell_type": "code",
   "execution_count": null,
   "metadata": {},
   "outputs": [],
   "source": [
    "# itr_feature = [257,269,308,315,395,341,336,526,504,639,681,724,701,736,769,867,808,829,920,956]\n",
    "# cov_feature = [257,269,315,395,336,341,504,526,639,681,701,724,769,736,829,867,920,956]\n",
    "# skb_feature = [257,269,315,341,336,504,681,701,769,736,808,829,920,974]\n",
    "# rf_features = [257,269,308,315,336,341,395,504,554,639,681,701,724,736,769,808,829,867,920,956]"
   ]
  },
  {
   "cell_type": "markdown",
   "metadata": {},
   "source": [
    "After comparing all the 4 lists of features, I narrowed down by features which appear in at least 2 of the lists."
   ]
  },
  {
   "cell_type": "code",
   "execution_count": 53,
   "metadata": {},
   "outputs": [],
   "source": [
    "sel_feature = [257,269,308,315,336,341,395,504,526,639,681,701,724,736,769,808,829,867,920,956]"
   ]
  },
  {
   "cell_type": "code",
   "execution_count": 54,
   "metadata": {},
   "outputs": [],
   "source": [
    "madelon_feat_sel = madelon[sel_feature]"
   ]
  },
  {
   "cell_type": "code",
   "execution_count": 55,
   "metadata": {},
   "outputs": [
    {
     "name": "stderr",
     "output_type": "stream",
     "text": [
      "/opt/conda/lib/python3.6/site-packages/ipykernel_launcher.py:1: SettingWithCopyWarning: \n",
      "A value is trying to be set on a copy of a slice from a DataFrame.\n",
      "Try using .loc[row_indexer,col_indexer] = value instead\n",
      "\n",
      "See the caveats in the documentation: http://pandas.pydata.org/pandas-docs/stable/indexing.html#indexing-view-versus-copy\n",
      "  \"\"\"Entry point for launching an IPython kernel.\n"
     ]
    }
   ],
   "source": [
    "madelon_feat_sel['target'] = madelon['target']"
   ]
  },
  {
   "cell_type": "code",
   "execution_count": 56,
   "metadata": {},
   "outputs": [
    {
     "data": {
      "text/html": [
       "<div>\n",
       "<table border=\"1\" class=\"dataframe\">\n",
       "  <thead>\n",
       "    <tr style=\"text-align: right;\">\n",
       "      <th></th>\n",
       "      <th>feat_257</th>\n",
       "      <th>feat_269</th>\n",
       "      <th>feat_308</th>\n",
       "      <th>feat_315</th>\n",
       "      <th>feat_336</th>\n",
       "      <th>feat_341</th>\n",
       "      <th>feat_395</th>\n",
       "      <th>feat_504</th>\n",
       "      <th>feat_526</th>\n",
       "      <th>feat_639</th>\n",
       "      <th>...</th>\n",
       "      <th>feat_701</th>\n",
       "      <th>feat_724</th>\n",
       "      <th>feat_736</th>\n",
       "      <th>feat_769</th>\n",
       "      <th>feat_808</th>\n",
       "      <th>feat_829</th>\n",
       "      <th>feat_867</th>\n",
       "      <th>feat_920</th>\n",
       "      <th>feat_956</th>\n",
       "      <th>target</th>\n",
       "    </tr>\n",
       "    <tr>\n",
       "      <th>_id</th>\n",
       "      <th></th>\n",
       "      <th></th>\n",
       "      <th></th>\n",
       "      <th></th>\n",
       "      <th></th>\n",
       "      <th></th>\n",
       "      <th></th>\n",
       "      <th></th>\n",
       "      <th></th>\n",
       "      <th></th>\n",
       "      <th></th>\n",
       "      <th></th>\n",
       "      <th></th>\n",
       "      <th></th>\n",
       "      <th></th>\n",
       "      <th></th>\n",
       "      <th></th>\n",
       "      <th></th>\n",
       "      <th></th>\n",
       "      <th></th>\n",
       "      <th></th>\n",
       "    </tr>\n",
       "  </thead>\n",
       "  <tbody>\n",
       "    <tr>\n",
       "      <th>3</th>\n",
       "      <td>-1.381832</td>\n",
       "      <td>2.080511</td>\n",
       "      <td>-0.362144</td>\n",
       "      <td>2.247193</td>\n",
       "      <td>-2.073514</td>\n",
       "      <td>-1.337430</td>\n",
       "      <td>-0.293574</td>\n",
       "      <td>-1.079409</td>\n",
       "      <td>1.860341</td>\n",
       "      <td>-2.603941</td>\n",
       "      <td>...</td>\n",
       "      <td>-3.284469</td>\n",
       "      <td>-0.542681</td>\n",
       "      <td>-0.039577</td>\n",
       "      <td>0.869894</td>\n",
       "      <td>0.508969</td>\n",
       "      <td>-1.037677</td>\n",
       "      <td>2.104805</td>\n",
       "      <td>-0.941140</td>\n",
       "      <td>-2.426835</td>\n",
       "      <td>0</td>\n",
       "    </tr>\n",
       "    <tr>\n",
       "      <th>10</th>\n",
       "      <td>2.804338</td>\n",
       "      <td>-1.261676</td>\n",
       "      <td>-2.284742</td>\n",
       "      <td>-1.688563</td>\n",
       "      <td>6.166629</td>\n",
       "      <td>5.007541</td>\n",
       "      <td>2.675419</td>\n",
       "      <td>3.598114</td>\n",
       "      <td>-2.193333</td>\n",
       "      <td>5.421262</td>\n",
       "      <td>...</td>\n",
       "      <td>3.366877</td>\n",
       "      <td>-0.189029</td>\n",
       "      <td>3.222836</td>\n",
       "      <td>-1.297024</td>\n",
       "      <td>-2.030169</td>\n",
       "      <td>4.900942</td>\n",
       "      <td>-3.949524</td>\n",
       "      <td>0.231459</td>\n",
       "      <td>4.389367</td>\n",
       "      <td>1</td>\n",
       "    </tr>\n",
       "    <tr>\n",
       "      <th>11</th>\n",
       "      <td>-4.021802</td>\n",
       "      <td>6.399656</td>\n",
       "      <td>-2.697609</td>\n",
       "      <td>5.317607</td>\n",
       "      <td>-0.791241</td>\n",
       "      <td>0.837904</td>\n",
       "      <td>3.671378</td>\n",
       "      <td>-2.514283</td>\n",
       "      <td>1.719510</td>\n",
       "      <td>-4.367107</td>\n",
       "      <td>...</td>\n",
       "      <td>-5.604178</td>\n",
       "      <td>-3.939761</td>\n",
       "      <td>3.528027</td>\n",
       "      <td>-1.654725</td>\n",
       "      <td>0.402188</td>\n",
       "      <td>-3.084444</td>\n",
       "      <td>1.853438</td>\n",
       "      <td>-0.032180</td>\n",
       "      <td>-4.577936</td>\n",
       "      <td>0</td>\n",
       "    </tr>\n",
       "    <tr>\n",
       "      <th>25</th>\n",
       "      <td>-1.486031</td>\n",
       "      <td>2.123825</td>\n",
       "      <td>0.812197</td>\n",
       "      <td>0.651382</td>\n",
       "      <td>0.801142</td>\n",
       "      <td>2.933220</td>\n",
       "      <td>2.917487</td>\n",
       "      <td>0.346056</td>\n",
       "      <td>-2.122917</td>\n",
       "      <td>0.424792</td>\n",
       "      <td>...</td>\n",
       "      <td>0.180689</td>\n",
       "      <td>-3.485893</td>\n",
       "      <td>1.095998</td>\n",
       "      <td>-2.832241</td>\n",
       "      <td>0.899736</td>\n",
       "      <td>-0.646875</td>\n",
       "      <td>-0.338827</td>\n",
       "      <td>0.041875</td>\n",
       "      <td>0.203281</td>\n",
       "      <td>0</td>\n",
       "    </tr>\n",
       "    <tr>\n",
       "      <th>76</th>\n",
       "      <td>-1.094294</td>\n",
       "      <td>1.716730</td>\n",
       "      <td>0.282536</td>\n",
       "      <td>0.715793</td>\n",
       "      <td>-0.976974</td>\n",
       "      <td>-0.934060</td>\n",
       "      <td>-0.151639</td>\n",
       "      <td>-2.783250</td>\n",
       "      <td>0.472113</td>\n",
       "      <td>-2.172965</td>\n",
       "      <td>...</td>\n",
       "      <td>-1.196585</td>\n",
       "      <td>-0.075236</td>\n",
       "      <td>-0.032043</td>\n",
       "      <td>-1.005800</td>\n",
       "      <td>-0.137620</td>\n",
       "      <td>-2.456573</td>\n",
       "      <td>0.564486</td>\n",
       "      <td>0.816006</td>\n",
       "      <td>-1.708319</td>\n",
       "      <td>0</td>\n",
       "    </tr>\n",
       "  </tbody>\n",
       "</table>\n",
       "<p>5 rows × 21 columns</p>\n",
       "</div>"
      ],
      "text/plain": [
       "     feat_257  feat_269  feat_308  feat_315  feat_336  feat_341  feat_395  \\\n",
       "_id                                                                         \n",
       "3   -1.381832  2.080511 -0.362144  2.247193 -2.073514 -1.337430 -0.293574   \n",
       "10   2.804338 -1.261676 -2.284742 -1.688563  6.166629  5.007541  2.675419   \n",
       "11  -4.021802  6.399656 -2.697609  5.317607 -0.791241  0.837904  3.671378   \n",
       "25  -1.486031  2.123825  0.812197  0.651382  0.801142  2.933220  2.917487   \n",
       "76  -1.094294  1.716730  0.282536  0.715793 -0.976974 -0.934060 -0.151639   \n",
       "\n",
       "     feat_504  feat_526  feat_639   ...    feat_701  feat_724  feat_736  \\\n",
       "_id                                 ...                                   \n",
       "3   -1.079409  1.860341 -2.603941   ...   -3.284469 -0.542681 -0.039577   \n",
       "10   3.598114 -2.193333  5.421262   ...    3.366877 -0.189029  3.222836   \n",
       "11  -2.514283  1.719510 -4.367107   ...   -5.604178 -3.939761  3.528027   \n",
       "25   0.346056 -2.122917  0.424792   ...    0.180689 -3.485893  1.095998   \n",
       "76  -2.783250  0.472113 -2.172965   ...   -1.196585 -0.075236 -0.032043   \n",
       "\n",
       "     feat_769  feat_808  feat_829  feat_867  feat_920  feat_956  target  \n",
       "_id                                                                      \n",
       "3    0.869894  0.508969 -1.037677  2.104805 -0.941140 -2.426835       0  \n",
       "10  -1.297024 -2.030169  4.900942 -3.949524  0.231459  4.389367       1  \n",
       "11  -1.654725  0.402188 -3.084444  1.853438 -0.032180 -4.577936       0  \n",
       "25  -2.832241  0.899736 -0.646875 -0.338827  0.041875  0.203281       0  \n",
       "76  -1.005800 -0.137620 -2.456573  0.564486  0.816006 -1.708319       0  \n",
       "\n",
       "[5 rows x 21 columns]"
      ]
     },
     "execution_count": 56,
     "metadata": {},
     "output_type": "execute_result"
    }
   ],
   "source": [
    "madelon_feat_sel.head()"
   ]
  },
  {
   "cell_type": "code",
   "execution_count": 57,
   "metadata": {},
   "outputs": [],
   "source": [
    "#pickling the df with selected feature \n",
    "madelon_feat_sel.to_pickle('/home/jovyan/Practice_exercise/Madelon/data/madelon_feature_selected.p')"
   ]
  },
  {
   "cell_type": "code",
   "execution_count": null,
   "metadata": {},
   "outputs": [],
   "source": []
  }
 ],
 "metadata": {
  "kernelspec": {
   "display_name": "Python 3",
   "language": "python",
   "name": "python3"
  },
  "language_info": {
   "codemirror_mode": {
    "name": "ipython",
    "version": 3
   },
   "file_extension": ".py",
   "mimetype": "text/x-python",
   "name": "python",
   "nbconvert_exporter": "python",
   "pygments_lexer": "ipython3",
   "version": "3.6.2"
  }
 },
 "nbformat": 4,
 "nbformat_minor": 2
}
